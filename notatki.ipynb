{
 "cells": [
  {
   "cell_type": "markdown",
   "metadata": {},
   "source": [
    "# Prosty łańcuch bloków"
   ]
  },
  {
   "cell_type": "markdown",
   "metadata": {},
   "source": [
    "1. Tworzenie bloków\n",
    "* Węzeł może tworzyć bloki \n",
    "* Bloki mogą być puste "
   ]
  },
  {
   "cell_type": "markdown",
   "metadata": {},
   "source": [
    "2. Walidacja Integralności \n",
    "* Weryfikacja czy blok faktycznie został wykopany\n",
    "* Weryfkiacja np. poprzez ilość początkowych 0\n"
   ]
  },
  {
   "cell_type": "markdown",
   "metadata": {},
   "source": [
    "3. Ustalenie protokołu wymiany danych \n",
    "* Mogą być jsony (jwt powiedział że okay, ale bardziej json)"
   ]
  },
  {
   "cell_type": "markdown",
   "metadata": {},
   "source": [
    "4. Synchronizacja węzłów \n",
    "* Przy każdej zmianie blockchaniu, rozsyłamy znajomym węzłą \"nowy\" blockchain \n"
   ]
  },
  {
   "cell_type": "markdown",
   "metadata": {},
   "source": [
    "5. Osiągnięcie konsensusu \n",
    "* Wyrzucamy \"krótsze łancuchy\""
   ]
  },
  {
   "cell_type": "markdown",
   "metadata": {},
   "source": [
    "Przykład :\n",
    "naivechain \n",
    "naivecoin "
   ]
  }
 ],
 "metadata": {
  "language_info": {
   "name": "python"
  }
 },
 "nbformat": 4,
 "nbformat_minor": 2
}
